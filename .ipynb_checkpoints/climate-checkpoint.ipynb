{
 "cells": [
  {
   "cell_type": "code",
   "execution_count": 51,
   "metadata": {},
   "outputs": [],
   "source": [
    "%matplotlib inline\n",
    "from matplotlib import style\n",
    "style.use('fivethirtyeight')\n",
    "import matplotlib.pyplot as plt\n",
    "from matplotlib.ticker import (MultipleLocator, FormatStrFormatter,\n",
    "                               AutoMinorLocator)"
   ]
  },
  {
   "cell_type": "code",
   "execution_count": 2,
   "metadata": {},
   "outputs": [],
   "source": [
    "import numpy as np\n",
    "import pandas as pd"
   ]
  },
  {
   "cell_type": "code",
   "execution_count": 3,
   "metadata": {},
   "outputs": [],
   "source": [
    "import datetime as dt\n",
    "import os"
   ]
  },
  {
   "cell_type": "markdown",
   "metadata": {},
   "source": [
    "# Reflect Tables into SQLAlchemy ORM"
   ]
  },
  {
   "cell_type": "code",
   "execution_count": 4,
   "metadata": {},
   "outputs": [],
   "source": [
    "# Python SQL toolkit and Object Relational Mapper\n",
    "import sqlalchemy\n",
    "from sqlalchemy.ext.automap import automap_base\n",
    "from sqlalchemy.orm import Session\n",
    "from sqlalchemy import create_engine, func, distinct"
   ]
  },
  {
   "cell_type": "code",
   "execution_count": 5,
   "metadata": {},
   "outputs": [],
   "source": [
    "engine = create_engine(\"sqlite:///Resources/hawaii.sqlite\")"
   ]
  },
  {
   "cell_type": "code",
   "execution_count": 6,
   "metadata": {},
   "outputs": [],
   "source": [
    "# reflect an existing database into a new model\n",
    "Base = automap_base()\n",
    "# reflect the tables\n",
    "Base.prepare(engine, reflect=True)"
   ]
  },
  {
   "cell_type": "code",
   "execution_count": 7,
   "metadata": {},
   "outputs": [
    {
     "data": {
      "text/plain": [
       "['measurement', 'station']"
      ]
     },
     "execution_count": 7,
     "metadata": {},
     "output_type": "execute_result"
    }
   ],
   "source": [
    "# We can view all of the classes that automap found\n",
    "Base.classes.keys()"
   ]
  },
  {
   "cell_type": "code",
   "execution_count": 8,
   "metadata": {},
   "outputs": [],
   "source": [
    "# Save references to each table\n",
    "Measurement = Base.classes.measurement\n",
    "Station = Base.classes.station"
   ]
  },
  {
   "cell_type": "code",
   "execution_count": 9,
   "metadata": {},
   "outputs": [],
   "source": [
    "# Create our session (link) from Python to the DB\n",
    "session = Session(engine)"
   ]
  },
  {
   "cell_type": "markdown",
   "metadata": {},
   "source": [
    "# Exploratory Climate Analysis"
   ]
  },
  {
   "cell_type": "code",
   "execution_count": 10,
   "metadata": {},
   "outputs": [
    {
     "data": {
      "text/plain": [
       "['id', 'station', 'date', 'prcp', 'tobs']"
      ]
     },
     "execution_count": 10,
     "metadata": {},
     "output_type": "execute_result"
    }
   ],
   "source": [
    "Measurement.__table__.columns.keys()"
   ]
  },
  {
   "cell_type": "code",
   "execution_count": 131,
   "metadata": {},
   "outputs": [
    {
     "data": {
      "text/plain": [
       "['id', 'station', 'name', 'latitude', 'longitude', 'elevation']"
      ]
     },
     "execution_count": 131,
     "metadata": {},
     "output_type": "execute_result"
    }
   ],
   "source": [
    "Station.__table__.columns.keys()"
   ]
  },
  {
   "cell_type": "code",
   "execution_count": 134,
   "metadata": {},
   "outputs": [
    {
     "name": "stdout",
     "output_type": "stream",
     "text": [
      "1 USC00519397 WAIKIKI 717.2, HI US 21.2716 -157.8168 3.0\n",
      "2 USC00513117 KANEOHE 838.1, HI US 21.4234 -157.8015 14.6\n",
      "3 USC00514830 KUALOA RANCH HEADQUARTERS 886.9, HI US 21.5213 -157.8374 7.0\n",
      "4 USC00517948 PEARL CITY, HI US 21.3934 -157.9751 11.9\n",
      "5 USC00518838 UPPER WAHIAWA 874.3, HI US 21.4992 -158.0111 306.6\n",
      "6 USC00519523 WAIMANALO EXPERIMENTAL FARM, HI US 21.33556 -157.71139 19.5\n",
      "7 USC00519281 WAIHEE 837.5, HI US 21.45167 -157.84888999999998 32.9\n",
      "8 USC00511918 HONOLULU OBSERVATORY 702.2, HI US 21.3152 -157.9992 0.9\n",
      "9 USC00516128 MANOA LYON ARBO 785.2, HI US 21.3331 -157.8025 152.4\n"
     ]
    }
   ],
   "source": [
    "stations = session.query(Station).limit(20)\n",
    "for station in stations:\n",
    "    print(station.id, station.station, station.name, station.latitude, station.longitude, station.elevation)"
   ]
  },
  {
   "cell_type": "code",
   "execution_count": 11,
   "metadata": {},
   "outputs": [
    {
     "name": "stdout",
     "output_type": "stream",
     "text": [
      "('2017-08-23',)\n"
     ]
    }
   ],
   "source": [
    "# maxdate = session.query(func.max(Measurement.date))\n",
    "# mindate = session.query(func.min(Measurement.date))\n",
    "\n",
    "maxdate = session.query(Measurement.date).order_by(Measurement.date.desc()).first()\n",
    "\n",
    "print(maxdate)"
   ]
  },
  {
   "cell_type": "code",
   "execution_count": 12,
   "metadata": {},
   "outputs": [
    {
     "name": "stdout",
     "output_type": "stream",
     "text": [
      "2017 8 23\n"
     ]
    }
   ],
   "source": [
    "mdate = maxdate[0]\n",
    "year = int(mdate[0:4])\n",
    "month = int(mdate[5:7])\n",
    "day = int(mdate[8:10])\n",
    "print(year,month, day)"
   ]
  },
  {
   "cell_type": "code",
   "execution_count": 13,
   "metadata": {},
   "outputs": [
    {
     "name": "stdout",
     "output_type": "stream",
     "text": [
      "2016-08-23\n"
     ]
    }
   ],
   "source": [
    "query_date = dt.date(year, month, day) - dt.timedelta(days=365)\n",
    "print(query_date)"
   ]
  },
  {
   "cell_type": "code",
   "execution_count": 125,
   "metadata": {},
   "outputs": [
    {
     "data": {
      "image/png": "[encoded data removed]",
      "text/plain": [
       "<Figure size 864x576 with 1 Axes>"
      ]
     },
     "metadata": {},
     "output_type": "display_data"
    }
   ],
   "source": [
    "# Design a query to retrieve the last 12 months of precipitation data and plot the results\n",
    "\n",
    "# Calculate the date 1 year ago from the last data point in the database\n",
    "query_date = dt.date(year, month, day) - dt.timedelta(days=365)\n",
    "\n",
    "\n",
    "# Perform a query to retrieve the data and precipitation scores\n",
    "results = session.query(Measurement.date, Measurement.prcp).filter(Measurement.date >= query_date).statement\n",
    "\n",
    "# Save the query results as a Pandas DataFrame and set the index to the date column\n",
    "prcp = pd.read_sql_query(results, session.bind)\n",
    "\n",
    "#Sort the dataframe by date\n",
    "prcp.sort_values('date', inplace=True)\n",
    "\n",
    "#Reset the index\n",
    "prcp.set_index('date', inplace=True)\n",
    "\n",
    "# Use Pandas Plotting with Matplotlib to plot the data\n",
    "width = 4\n",
    "fig = plt.figure(figsize = (12, 8))\n",
    "ax = fig.add_subplot()\n",
    "\n",
    "ax.bar(prcp.index, prcp['prcp'], width, label='precipitation')\n",
    "ax.xaxis.set_major_locator(MultipleLocator(45))\n",
    "\n",
    "ax.tick_params(axis = 'x', labelrotation = 90, labelsize = 12)\n",
    "ax.tick_params(axis = 'y', labelsize = 12)\n",
    "\n",
    "ax.set_ylim(-.25, max(prcp['prcp'])*1.05)\n",
    "\n",
    "\n",
    "# # Set a title for the chart\n",
    "ax.set_title(\"Precipitation for 1 Year\", weight='bold', size=16)\n",
    "ax.set_xlabel(\"Date\")\n",
    "ax.set_ylabel(\"Inches\")\n",
    "ax.legend()\n",
    "plt.tight_layout()\n",
    "\n",
    "outfile = os.path.join('Output', 'precipitation_1yr.png')\n",
    "plt.savefig(outfile)\n",
    "\n",
    "plt.show()"
   ]
  },
  {
   "cell_type": "code",
   "execution_count": 15,
   "metadata": {},
   "outputs": [
    {
     "data": {
      "text/html": [
       "<div>\n",
       "<style scoped>\n",
       "    .dataframe tbody tr th:only-of-type {\n",
       "        vertical-align: middle;\n",
       "    }\n",
       "\n",
       "    .dataframe tbody tr th {\n",
       "        vertical-align: top;\n",
       "    }\n",
       "\n",
       "    .dataframe thead th {\n",
       "        text-align: right;\n",
       "    }\n",
       "</style>\n",
       "<table border=\"1\" class=\"dataframe\">\n",
       "  <thead>\n",
       "    <tr style=\"text-align: right;\">\n",
       "      <th></th>\n",
       "      <th>prcp</th>\n",
       "    </tr>\n",
       "  </thead>\n",
       "  <tbody>\n",
       "    <tr>\n",
       "      <th>count</th>\n",
       "      <td>1147.000000</td>\n",
       "    </tr>\n",
       "    <tr>\n",
       "      <th>mean</th>\n",
       "      <td>0.312363</td>\n",
       "    </tr>\n",
       "    <tr>\n",
       "      <th>std</th>\n",
       "      <td>0.576781</td>\n",
       "    </tr>\n",
       "    <tr>\n",
       "      <th>min</th>\n",
       "      <td>0.010000</td>\n",
       "    </tr>\n",
       "    <tr>\n",
       "      <th>25%</th>\n",
       "      <td>0.030000</td>\n",
       "    </tr>\n",
       "    <tr>\n",
       "      <th>50%</th>\n",
       "      <td>0.100000</td>\n",
       "    </tr>\n",
       "    <tr>\n",
       "      <th>75%</th>\n",
       "      <td>0.310000</td>\n",
       "    </tr>\n",
       "    <tr>\n",
       "      <th>max</th>\n",
       "      <td>6.700000</td>\n",
       "    </tr>\n",
       "  </tbody>\n",
       "</table>\n",
       "</div>"
      ],
      "text/plain": [
       "              prcp\n",
       "count  1147.000000\n",
       "mean      0.312363\n",
       "std       0.576781\n",
       "min       0.010000\n",
       "25%       0.030000\n",
       "50%       0.100000\n",
       "75%       0.310000\n",
       "max       6.700000"
      ]
     },
     "execution_count": 15,
     "metadata": {},
     "output_type": "execute_result"
    }
   ],
   "source": [
    "# Use Pandas to calcualte the summary statistics for the precipitation data\n",
    "prcp_describe = prcp_sorted.describe()\n",
    "prcp_describe"
   ]
  },
  {
   "cell_type": "code",
   "execution_count": 16,
   "metadata": {},
   "outputs": [
    {
     "name": "stdout",
     "output_type": "stream",
     "text": [
      "The number of unique stations is 9\n",
      "The number of non-unique stations (records) is 19550\n"
     ]
    }
   ],
   "source": [
    "# Design a query to show how many stations are available in this dataset?\n",
    "unique_stations = session.query(func.count(distinct(Measurement.station)))\n",
    "print(f'The number of unique stations is {unique_stations[0][0]}')\n",
    "\n",
    "station_count = session.query(Measurement.station).count()\n",
    "print(f'The number of non-unique stations (records) is {station_count}')"
   ]
  },
  {
   "cell_type": "code",
   "execution_count": 17,
   "metadata": {},
   "outputs": [
    {
     "name": "stdout",
     "output_type": "stream",
     "text": [
      "Station Name   Total\n",
      "USC00519281    2772\n",
      "USC00519397    2724\n",
      "USC00513117    2709\n",
      "USC00519523    2669\n",
      "USC00516128    2612\n",
      "USC00514830    2202\n",
      "USC00511918    1979\n",
      "USC00517948    1372\n",
      "USC00518838    511\n"
     ]
    }
   ],
   "source": [
    "# What are the most active stations? (i.e. what stations have the most rows)?\n",
    "# List the stations and the counts in descending order.\n",
    "most_active = session.query(Measurement.station, func.count(Measurement.station).label('total')).group_by(Measurement.station).order_by(func.count(Measurement.station).label('total').desc()).all()\n",
    "\n",
    "print('Station Name   Total')\n",
    "\n",
    "for active in most_active:\n",
    "    print(f'{active[0]}    {active[1]}')\n",
    "    \n"
   ]
  },
  {
   "cell_type": "code",
   "execution_count": 18,
   "metadata": {},
   "outputs": [
    {
     "name": "stdout",
     "output_type": "stream",
     "text": [
      "Station Name   Min Temp\n",
      "USC00519281    54.0\n",
      "\n",
      "\n",
      "Station Name   Max Temp\n",
      "USC00519281    85.0\n",
      "\n",
      "\n",
      "Station Name   Avg Temp\n",
      "USC00519281    71.66\n"
     ]
    }
   ],
   "source": [
    "# Using the station id from the previous query, calculate the lowest temperature recorded, \n",
    "# highest temperature recorded, and average temperature of the most active station?\n",
    "min_temp = session.query(Measurement.station,func.min(Measurement.tobs).label('min_temp')).filter(Measurement.station == 'USC00519281').first()\n",
    "print('Station Name   Min Temp')\n",
    "print(f'{min_temp[0]}    {min_temp[1]}')\n",
    "\n",
    "max_temp = session.query(Measurement.station,func.max(Measurement.tobs).label('max_temp')).filter(Measurement.station == 'USC00519281').first()\n",
    "print('\\n')\n",
    "print('Station Name   Max Temp')\n",
    "print(f'{max_temp[0]}    {max_temp[1]}')\n",
    "\n",
    "avg_temp = session.query(Measurement.station,func.avg(Measurement.tobs).label('avg_temp')).filter(Measurement.station == 'USC00519281').first()\n",
    "print('\\n')\n",
    "print('Station Name   Avg Temp')\n",
    "print(f'{avg_temp[0]}    {round(avg_temp[1],2)}')\n",
    "\n"
   ]
  },
  {
   "cell_type": "code",
   "execution_count": 123,
   "metadata": {},
   "outputs": [
    {
     "data": {
      "image/png": "[encoded data removed]",
      "text/plain": [
       "<Figure size 864x576 with 1 Axes>"
      ]
     },
     "metadata": {},
     "output_type": "display_data"
    }
   ],
   "source": [
    "# Choose the station with the highest number of temperature observations.\n",
    "# Query the last 12 months of temperature observation data for this station and plot the results as a histogram\n",
    "tmp_results = session.query(Measurement.date, Measurement.tobs).filter(Measurement.station == 'USC00519281').filter(Measurement.date >= query_date).statement\n",
    "\n",
    "tmp_df = pd.read_sql_query(tmp_results, session.bind)\n",
    "\n",
    "plt.figure(figsize=(12,8))\n",
    "tmp_plot = plt.hist(tmp_df['tobs'],  bins=12, color='gold', alpha=0.5, zorder=2, rwidth=1, label='tobs')\n",
    "plt.grid(axis='y', linestyle='--', alpha=.5, zorder=3)\n",
    "plt.title(\"Histogram of Temperatures\", weight='bold', size=12)\n",
    "plt.xlabel(\"Temperature\", labelpad=20, weight='bold', size=12)\n",
    "plt.ylabel(\"Frequency\", labelpad=20, weight='bold', size=12)\n",
    "plt.legend()\n",
    "\n",
    "outfile = os.path.join('Output', 'histogram_temperatures.png')\n",
    "plt.savefig(outfile)\n",
    "\n",
    "plt.show()"
   ]
  },
  {
   "cell_type": "markdown",
   "metadata": {},
   "source": [
    "## Bonus Challenge Assignment"
   ]
  },
  {
   "cell_type": "markdown",
   "metadata": {},
   "source": [
    "### Temperature Analysis I"
   ]
  },
  {
   "cell_type": "markdown",
   "metadata": {},
   "source": [
    "### Temperature Analysis II"
   ]
  },
  {
   "cell_type": "code",
   "execution_count": 127,
   "metadata": {},
   "outputs": [
    {
     "name": "stdout",
     "output_type": "stream",
     "text": [
      "[(58.0, 74.59058295964125, 87.0)]\n"
     ]
    }
   ],
   "source": [
    "# This function called `calc_temps` will accept start date and end date in the format '%Y-%m-%d' \n",
    "# and return the minimum, average, and maximum temperatures for that range of dates\n",
    "def calc_temps(start_date, end_date):\n",
    "    \"\"\"TMIN, TAVG, and TMAX for a list of dates.\n",
    "    \n",
    "    Args:\n",
    "        start_date (string): A date string in the format %Y-%m-%d\n",
    "        end_date (string): A date string in the format %Y-%m-%d\n",
    "        \n",
    "    Returns:\n",
    "        TMIN, TAVE, and TMAX\n",
    "    \"\"\"\n",
    "    \n",
    "    return session.query(func.min(Measurement.tobs), func.avg(Measurement.tobs), func.max(Measurement.tobs)).\\\n",
    "        filter(Measurement.date >= start_date).filter(Measurement.date <= end_date).all()\n",
    "\n",
    "# function usage example\n",
    "print(calc_temps(query_date, mdate))"
   ]
  },
  {
   "cell_type": "code",
   "execution_count": 128,
   "metadata": {},
   "outputs": [
    {
     "name": "stdout",
     "output_type": "stream",
     "text": [
      "TMin: 58.0\n",
      "TMax: 87.0\n",
      "TAvg: 74.14\n"
     ]
    }
   ],
   "source": [
    "# Use your previous function `calc_temps` to calculate the tmin, tavg, and tmax \n",
    "# for your trip using the previous year's data for those same dates.\n",
    "start_date = '2017-01-01'\n",
    "end_date = '2018-01-01'\n",
    "\n",
    "tmp_results = calc_temps(start_date, end_date)\n",
    "print(f'TMin: {tmp_results[0][0]}') \n",
    "print(f'TMax: {tmp_results[0][2]}')\n",
    "print(f'TAvg: {round(tmp_results[0][1],2)}')\n"
   ]
  },
  {
   "cell_type": "code",
   "execution_count": 129,
   "metadata": {},
   "outputs": [
    {
     "data": {
      "image/png": "[encoded data removed]",
      "text/plain": [
       "<Figure size 216x432 with 1 Axes>"
      ]
     },
     "metadata": {},
     "output_type": "display_data"
    }
   ],
   "source": [
    "# Plot the results from your previous query as a bar chart. \n",
    "# Use \"Trip Avg Temp\" as your Title\n",
    "# Use the average temperature for the y value\n",
    "# Use the peak-to-peak (tmax-tmin) value as the y error bar (yerr)\n",
    "yerr = tmp_results[0][2] - tmp_results[0][0]\n",
    "\n",
    "plt.figure(figsize=(3,6))\n",
    "plt.bar('Temp', tmp_results[0][1], yerr=yerr, color='darkorange', alpha=.5, zorder=2)\n",
    "plt.grid(axis='y', linestyle='--', alpha=.5, zorder=3)\n",
    "plt.title(\"Trip Avg Temp\", weight='bold', size=14)\n",
    "plt.ylabel(\"Temp (F)\", labelpad=20, weight='bold', size=12)\n",
    "plt.ylim(0, 130)\n",
    "\n",
    "plt.tight_layout()\n",
    "outfile = os.path.join('Output', 'trip_avg_temp.png')\n",
    "plt.savefig(outfile)\n",
    "\n",
    "plt.show()"
   ]
  },
  {
   "cell_type": "code",
   "execution_count": 156,
   "metadata": {},
   "outputs": [
    {
     "name": "stdout",
     "output_type": "stream",
     "text": [
      "[('USC00516128', 'MANOA LYON ARBO 785.2, HI US', 21.3331, -157.8025, 152.4, 147.81000000000006), ('USC00519281', 'WAIHEE 837.5, HI US', 21.45167, -157.84888999999998, 32.9, 70.03000000000003), ('USC00513117', 'KANEOHE 838.1, HI US', 21.4234, -157.8015, 14.6, 48.510000000000026), ('USC00519523', 'WAIMANALO EXPERIMENTAL FARM, HI US', 21.33556, -157.71139, 19.5, 38.01), ('USC00514830', 'KUALOA RANCH HEADQUARTERS 886.9, HI US', 21.5213, -157.8374, 7.0, 33.239999999999995), ('USC00519397', 'WAIKIKI 717.2, HI US', 21.2716, -157.8168, 3.0, 16.089999999999986), ('USC00517948', 'PEARL CITY, HI US', 21.3934, -157.9751, 11.9, 4.59)]\n",
      "Station\tName\tLatitude\t\t\t\tLongitude     Elevation   Precipitation\n",
      "USC00516128\tMANOA LYON ARBO 785.2, HI US\t\t\t21.3331-157.8025152.4147.81000000000006\n",
      "USC00519281\tWAIHEE 837.5, HI US\t\t\t21.45167-157.8488899999999832.970.03000000000003\n",
      "USC00513117\tKANEOHE 838.1, HI US\t\t\t21.4234-157.801514.648.510000000000026\n",
      "USC00519523\tWAIMANALO EXPERIMENTAL FARM, HI US\t\t\t21.33556-157.7113919.538.01\n",
      "USC00514830\tKUALOA RANCH HEADQUARTERS 886.9, HI US\t\t\t21.5213-157.83747.033.239999999999995\n",
      "USC00519397\tWAIKIKI 717.2, HI US\t\t\t21.2716-157.81683.016.089999999999986\n",
      "USC00517948\tPEARL CITY, HI US\t\t\t21.3934-157.975111.94.59\n"
     ]
    }
   ],
   "source": [
    "# Calculate the total amount of rainfall per weather station for your trip dates using the previous year's matching dates.\n",
    "# Sort this in descending order by precipitation amount and list the station, name, latitude, longitude, and elevation\n",
    "trip_rainfall = session.query(Measurement.station, Station.name, Station.latitude,\\\n",
    "    Station.longitude, Station.elevation, func.sum(Measurement.prcp).label('total')).\\\n",
    "    filter(Measurement.station==Station.station).filter(Measurement.date >= query_date).filter(Measurement.date <= mdate).\\\n",
    "    group_by(Measurement.station).order_by(func.sum(Measurement.prcp).label('total').desc()).all()\n",
    "\n",
    "print(trip_rainfall)\n",
    "print('Station\\tName\\tLatitude\\t\\t\\t\\tLongitude     Elevation   Precipitation')\n",
    "for station in trip_rainfall:\n",
    "    print(f'{station[0]}\\t{station[1]}\\t\\t\\t{station[2]}{station[3]}{station[4]}{station[5]}')"
   ]
  },
  {
   "cell_type": "code",
   "execution_count": null,
   "metadata": {},
   "outputs": [],
   "source": [
    "# Create a query that will calculate the daily normals \n",
    "# (i.e. the averages for tmin, tmax, and tavg for all historic data matching a specific month and day)\n",
    "\n",
    "def daily_normals(date):\n",
    "    \"\"\"Daily Normals.\n",
    "    \n",
    "    Args:\n",
    "        date (str): A date string in the format '%m-%d'\n",
    "        \n",
    "    Returns:\n",
    "        A list of tuples containing the daily normals, tmin, tavg, and tmax\n",
    "    \n",
    "    \"\"\"\n",
    "    \n",
    "    sel = [func.min(Measurement.tobs), func.avg(Measurement.tobs), func.max(Measurement.tobs)]\n",
    "    return session.query(*sel).filter(func.strftime(\"%m-%d\", Measurement.date) == date).all()\n",
    "    \n",
    "daily_normals(\"01-01\")"
   ]
  },
  {
   "cell_type": "code",
   "execution_count": null,
   "metadata": {},
   "outputs": [],
   "source": [
    "# calculate the daily normals for your trip\n",
    "# push each tuple of calculations into a list called `normals`\n",
    "\n",
    "# Set the start and end date of the trip\n",
    "\n",
    "# Use the start and end date to create a range of dates\n",
    "\n",
    "# Stip off the year and save a list of %m-%d strings\n",
    "\n",
    "# Loop through the list of %m-%d strings and calculate the normals for each date\n"
   ]
  },
  {
   "cell_type": "code",
   "execution_count": null,
   "metadata": {},
   "outputs": [],
   "source": [
    "# Load the previous query results into a Pandas DataFrame and add the `trip_dates` range as the `date` index\n"
   ]
  },
  {
   "cell_type": "code",
   "execution_count": null,
   "metadata": {},
   "outputs": [],
   "source": [
    "# Plot the daily normals as an area plot with `stacked=False`\n"
   ]
  }
 ],
 "metadata": {
  "kernel_info": {
   "name": "python3"
  },
  "kernelspec": {
   "display_name": "Python 3",
   "language": "python",
   "name": "python3"
  },
  "language_info": {
   "codemirror_mode": {
    "name": "ipython",
    "version": 3
   },
   "file_extension": ".py",
   "mimetype": "text/x-python",
   "name": "python",
   "nbconvert_exporter": "python",
   "pygments_lexer": "ipython3",
   "version": "3.8.3"
  },
  "nteract": {
   "version": "0.12.3"
  },
  "varInspector": {
   "cols": {
    "lenName": 16,
    "lenType": 16,
    "lenVar": 40
   },
   "kernels_config": {
    "python": {
     "delete_cmd_postfix": "",
     "delete_cmd_prefix": "del ",
     "library": "var_list.py",
     "varRefreshCmd": "print(var_dic_list())"
    },
    "r": {
     "delete_cmd_postfix": ") ",
     "delete_cmd_prefix": "rm(",
     "library": "var_list.r",
     "varRefreshCmd": "cat(var_dic_list()) "
    }
   },
   "types_to_exclude": [
    "module",
    "function",
    "builtin_function_or_method",
    "instance",
    "_Feature"
   ],
   "window_display": false
  }
 },
 "nbformat": 4,
 "nbformat_minor": 4
}
