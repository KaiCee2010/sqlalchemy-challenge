{
 "cells": [
  {
   "cell_type": "markdown",
   "metadata": {},
   "source": [
    "# SQLAlchemy Homework"
   ]
  },
  {
   "cell_type": "markdown",
   "metadata": {},
   "source": [
    "### Observations for Temperature Analysis I\n",
    "\n",
    "An paired t-test was used since we are comparing the means of the same set of stations, but at different times.  The difference in the means is significantly significant."
   ]
  },
  {
   "cell_type": "code",
   "execution_count": 1,
   "metadata": {},
   "outputs": [],
   "source": [
    "%matplotlib inline\n",
    "from matplotlib import style\n",
    "style.use('fivethirtyeight')\n",
    "import matplotlib.pyplot as plt\n",
    "from matplotlib.ticker import MultipleLocator"
   ]
  },
  {
   "cell_type": "code",
   "execution_count": 2,
   "metadata": {},
   "outputs": [],
   "source": [
    "import numpy as np\n",
    "import pandas as pd\n",
    "from scipy import stats"
   ]
  },
  {
   "cell_type": "code",
   "execution_count": 3,
   "metadata": {},
   "outputs": [],
   "source": [
    "import datetime as dt\n",
    "import os"
   ]
  },
  {
   "cell_type": "markdown",
   "metadata": {},
   "source": [
    "# Reflect Tables into SQLAlchemy ORM"
   ]
  },
  {
   "cell_type": "code",
   "execution_count": 4,
   "metadata": {},
   "outputs": [],
   "source": [
    "# Python SQL toolkit and Object Relational Mapper\n",
    "import sqlalchemy\n",
    "from sqlalchemy.ext.automap import automap_base\n",
    "from sqlalchemy.orm import Session\n",
    "from sqlalchemy import create_engine, func, distinct"
   ]
  },
  {
   "cell_type": "code",
   "execution_count": 5,
   "metadata": {},
   "outputs": [],
   "source": [
    "engine = create_engine(\"sqlite:///Resources/hawaii.sqlite\")"
   ]
  },
  {
   "cell_type": "code",
   "execution_count": 6,
   "metadata": {},
   "outputs": [],
   "source": [
    "# reflect an existing database into a new model\n",
    "Base = automap_base()\n",
    "# reflect the tables\n",
    "Base.prepare(engine, reflect=True)"
   ]
  },
  {
   "cell_type": "code",
   "execution_count": 7,
   "metadata": {},
   "outputs": [
    {
     "data": {
      "text/plain": [
       "['measurement', 'station']"
      ]
     },
     "execution_count": 7,
     "metadata": {},
     "output_type": "execute_result"
    }
   ],
   "source": [
    "# We can view all of the classes that automap found\n",
    "Base.classes.keys()"
   ]
  },
  {
   "cell_type": "code",
   "execution_count": 8,
   "metadata": {},
   "outputs": [],
   "source": [
    "# Save references to each table\n",
    "Measurement = Base.classes.measurement\n",
    "Station = Base.classes.station"
   ]
  },
  {
   "cell_type": "code",
   "execution_count": 9,
   "metadata": {},
   "outputs": [],
   "source": [
    "# Create our session (link) from Python to the DB\n",
    "session = Session(engine)"
   ]
  },
  {
   "cell_type": "markdown",
   "metadata": {},
   "source": [
    "# Exploratory Climate Analysis"
   ]
  },
  {
   "cell_type": "code",
   "execution_count": 10,
   "metadata": {},
   "outputs": [
    {
     "data": {
      "text/plain": [
       "['id', 'station', 'date', 'prcp', 'tobs']"
      ]
     },
     "execution_count": 10,
     "metadata": {},
     "output_type": "execute_result"
    }
   ],
   "source": [
    "#View column names in measurement class\n",
    "Measurement.__table__.columns.keys()"
   ]
  },
  {
   "cell_type": "code",
   "execution_count": 11,
   "metadata": {},
   "outputs": [
    {
     "name": "stdout",
     "output_type": "stream",
     "text": [
      "1 USC00519397 2010-01-01 0.08 65.0\n",
      "2 USC00519397 2010-01-02 0.0 63.0\n",
      "3 USC00519397 2010-01-03 0.0 74.0\n",
      "4 USC00519397 2010-01-04 0.0 76.0\n",
      "5 USC00519397 2010-01-06 None 73.0\n",
      "6 USC00519397 2010-01-07 0.06 70.0\n",
      "7 USC00519397 2010-01-08 0.0 64.0\n",
      "8 USC00519397 2010-01-09 0.0 68.0\n",
      "9 USC00519397 2010-01-10 0.0 73.0\n",
      "10 USC00519397 2010-01-11 0.01 64.0\n"
     ]
    }
   ],
   "source": [
    "# Get a look at the data in the Measurement class\n",
    "measurements = session.query(Measurement).limit(10)\n",
    "for measurement in measurements:\n",
    "    print(measurement.id, measurement.station, measurement.date, measurement.prcp, measurement.tobs)"
   ]
  },
  {
   "cell_type": "code",
   "execution_count": 12,
   "metadata": {},
   "outputs": [
    {
     "data": {
      "text/plain": [
       "['id', 'station', 'name', 'latitude', 'longitude', 'elevation']"
      ]
     },
     "execution_count": 12,
     "metadata": {},
     "output_type": "execute_result"
    }
   ],
   "source": [
    "# View column names in station class\n",
    "Station.__table__.columns.keys()"
   ]
  },
  {
   "cell_type": "code",
   "execution_count": 13,
   "metadata": {},
   "outputs": [
    {
     "name": "stdout",
     "output_type": "stream",
     "text": [
      "1 USC00519397 WAIKIKI 717.2, HI US 21.2716 -157.8168 3.0\n",
      "2 USC00513117 KANEOHE 838.1, HI US 21.4234 -157.8015 14.6\n",
      "3 USC00514830 KUALOA RANCH HEADQUARTERS 886.9, HI US 21.5213 -157.8374 7.0\n",
      "4 USC00517948 PEARL CITY, HI US 21.3934 -157.9751 11.9\n",
      "5 USC00518838 UPPER WAHIAWA 874.3, HI US 21.4992 -158.0111 306.6\n",
      "6 USC00519523 WAIMANALO EXPERIMENTAL FARM, HI US 21.33556 -157.71139 19.5\n",
      "7 USC00519281 WAIHEE 837.5, HI US 21.45167 -157.84888999999998 32.9\n",
      "8 USC00511918 HONOLULU OBSERVATORY 702.2, HI US 21.3152 -157.9992 0.9\n",
      "9 USC00516128 MANOA LYON ARBO 785.2, HI US 21.3331 -157.8025 152.4\n"
     ]
    }
   ],
   "source": [
    "#Get a look at the data in the Station class\n",
    "stations = session.query(Station).limit(20)\n",
    "for station in stations:\n",
    "    print(station.id, station.station, station.name, station.latitude, station.longitude, station.elevation)"
   ]
  },
  {
   "cell_type": "code",
   "execution_count": 14,
   "metadata": {},
   "outputs": [],
   "source": [
    "maxdate = session.query(Measurement.date).order_by(Measurement.date.desc()).first()\n",
    "max_date = dt.datetime.strptime(maxdate[0], '%Y-%m-%d').date()"
   ]
  },
  {
   "cell_type": "code",
   "execution_count": 15,
   "metadata": {},
   "outputs": [
    {
     "data": {
      "image/png": "[encoded data removed]",
      "text/plain": [
       "<Figure size 864x576 with 1 Axes>"
      ]
     },
     "metadata": {},
     "output_type": "display_data"
    }
   ],
   "source": [
    "# Design a query to retrieve the last 12 months of precipitation data and plot the results\n",
    "\n",
    "# Calculate the date 1 year ago from the last data point in the database\n",
    "query_date = max_date - dt.timedelta(days=365)\n",
    "\n",
    "\n",
    "# Perform a query to retrieve the data and precipitation scores\n",
    "results = session.query(Measurement.date, Measurement.prcp).filter(Measurement.date >= query_date).statement\n",
    "\n",
    "# Save the query results as a Pandas DataFrame and set the index to the date column\n",
    "prcp = pd.read_sql_query(results, session.bind)\n",
    "\n",
    "#Sort the dataframe by date\n",
    "prcp.sort_values('date', inplace=True)\n",
    "\n",
    "#Reset the index\n",
    "prcp.set_index('date', inplace=True)\n",
    "\n",
    "# Use Pandas Plotting with Matplotlib to plot the data\n",
    "width = 4\n",
    "fig = plt.figure(figsize = (12, 8))\n",
    "ax = fig.add_subplot()\n",
    "\n",
    "ax.bar(prcp.index, prcp['prcp'], width, label='precipitation')\n",
    "ax.xaxis.set_major_locator(MultipleLocator(45))\n",
    "\n",
    "ax.tick_params(axis = 'x', labelrotation = 45, labelsize = 12)\n",
    "ax.tick_params(axis = 'y', labelsize = 12)\n",
    "\n",
    "ax.set_ylim(-.25, max(prcp['prcp'])*1.05)\n",
    "\n",
    "\n",
    "# Set a title for the chart\n",
    "ax.set_title(\"Precipitation for 1 Year\", weight='bold', size=16)\n",
    "ax.set_xlabel(\"Date\")\n",
    "ax.set_ylabel(\"Inches\")\n",
    "ax.legend()\n",
    "plt.tight_layout()\n",
    "\n",
    "outfile = os.path.join('Output', 'precipitation_1yr.png')\n",
    "plt.savefig(outfile)\n",
    "\n",
    "plt.show()"
   ]
  },
  {
   "cell_type": "code",
   "execution_count": 16,
   "metadata": {},
   "outputs": [
    {
     "data": {
      "text/html": [
       "<div>\n",
       "<style scoped>\n",
       "    .dataframe tbody tr th:only-of-type {\n",
       "        vertical-align: middle;\n",
       "    }\n",
       "\n",
       "    .dataframe tbody tr th {\n",
       "        vertical-align: top;\n",
       "    }\n",
       "\n",
       "    .dataframe thead th {\n",
       "        text-align: right;\n",
       "    }\n",
       "</style>\n",
       "<table border=\"1\" class=\"dataframe\">\n",
       "  <thead>\n",
       "    <tr style=\"text-align: right;\">\n",
       "      <th></th>\n",
       "      <th>prcp</th>\n",
       "    </tr>\n",
       "  </thead>\n",
       "  <tbody>\n",
       "    <tr>\n",
       "      <th>count</th>\n",
       "      <td>2021.000000</td>\n",
       "    </tr>\n",
       "    <tr>\n",
       "      <th>mean</th>\n",
       "      <td>0.177279</td>\n",
       "    </tr>\n",
       "    <tr>\n",
       "      <th>std</th>\n",
       "      <td>0.461190</td>\n",
       "    </tr>\n",
       "    <tr>\n",
       "      <th>min</th>\n",
       "      <td>0.000000</td>\n",
       "    </tr>\n",
       "    <tr>\n",
       "      <th>25%</th>\n",
       "      <td>0.000000</td>\n",
       "    </tr>\n",
       "    <tr>\n",
       "      <th>50%</th>\n",
       "      <td>0.020000</td>\n",
       "    </tr>\n",
       "    <tr>\n",
       "      <th>75%</th>\n",
       "      <td>0.130000</td>\n",
       "    </tr>\n",
       "    <tr>\n",
       "      <th>max</th>\n",
       "      <td>6.700000</td>\n",
       "    </tr>\n",
       "  </tbody>\n",
       "</table>\n",
       "</div>"
      ],
      "text/plain": [
       "              prcp\n",
       "count  2021.000000\n",
       "mean      0.177279\n",
       "std       0.461190\n",
       "min       0.000000\n",
       "25%       0.000000\n",
       "50%       0.020000\n",
       "75%       0.130000\n",
       "max       6.700000"
      ]
     },
     "execution_count": 16,
     "metadata": {},
     "output_type": "execute_result"
    }
   ],
   "source": [
    "# Use Pandas to calcualte the summary statistics for the precipitation data\n",
    "prcp_describe = prcp.describe()\n",
    "prcp_describe"
   ]
  },
  {
   "cell_type": "code",
   "execution_count": 17,
   "metadata": {},
   "outputs": [
    {
     "name": "stdout",
     "output_type": "stream",
     "text": [
      "The number of unique stations is 9\n",
      "The number of non-unique stations (records) is 19550\n"
     ]
    }
   ],
   "source": [
    "# Design a query to show how many stations are available in this dataset?\n",
    "unique_stations = session.query(func.count(distinct(Measurement.station)))\n",
    "print(f'The number of unique stations is {unique_stations[0][0]}')\n",
    "\n",
    "station_count = session.query(Measurement.station).count()\n",
    "print(f'The number of non-unique stations (records) is {station_count}')"
   ]
  },
  {
   "cell_type": "code",
   "execution_count": 18,
   "metadata": {},
   "outputs": [
    {
     "name": "stdout",
     "output_type": "stream",
     "text": [
      "Station Name   Total\n",
      "USC00519281    2772\n",
      "USC00519397    2724\n",
      "USC00513117    2709\n",
      "USC00519523    2669\n",
      "USC00516128    2612\n",
      "USC00514830    2202\n",
      "USC00511918    1979\n",
      "USC00517948    1372\n",
      "USC00518838    511\n"
     ]
    }
   ],
   "source": [
    "# What are the most active stations? (i.e. what stations have the most rows)?\n",
    "# List the stations and the counts in descending order.\n",
    "most_active = session.query(Measurement.station, func.count(Measurement.station).label('total')).group_by(Measurement.station).order_by(func.count(Measurement.station).label('total').desc()).all()\n",
    "\n",
    "print('Station Name   Total')\n",
    "\n",
    "for active in most_active:\n",
    "    print(f'{active[0]}    {active[1]}')\n",
    "    \n"
   ]
  },
  {
   "cell_type": "code",
   "execution_count": 19,
   "metadata": {},
   "outputs": [
    {
     "name": "stdout",
     "output_type": "stream",
     "text": [
      "Station Name   Min Temp\n",
      "USC00519281    54.0\n",
      "\n",
      "\n",
      "Station Name   Max Temp\n",
      "USC00519281    85.0\n",
      "\n",
      "\n",
      "Station Name   Avg Temp\n",
      "USC00519281    71.66\n"
     ]
    }
   ],
   "source": [
    "# Using the station id from the previous query, calculate the lowest temperature recorded, \n",
    "# highest temperature recorded, and average temperature of the most active station?\n",
    "min_temp = session.query(Measurement.station,func.min(Measurement.tobs).label('min_temp')).filter(Measurement.station == 'USC00519281').first()\n",
    "print('Station Name   Min Temp')\n",
    "print(f'{min_temp[0]}    {min_temp[1]}')\n",
    "\n",
    "max_temp = session.query(Measurement.station,func.max(Measurement.tobs).label('max_temp')).filter(Measurement.station == 'USC00519281').first()\n",
    "print('\\n')\n",
    "print('Station Name   Max Temp')\n",
    "print(f'{max_temp[0]}    {max_temp[1]}')\n",
    "\n",
    "avg_temp = session.query(Measurement.station,func.avg(Measurement.tobs).label('avg_temp')).filter(Measurement.station == 'USC00519281').first()\n",
    "print('\\n')\n",
    "print('Station Name   Avg Temp')\n",
    "print(f'{avg_temp[0]}    {round(avg_temp[1],2)}')\n",
    "\n"
   ]
  },
  {
   "cell_type": "code",
   "execution_count": 20,
   "metadata": {},
   "outputs": [
    {
     "data": {
      "image/png": "[encoded data removed]",
      "text/plain": [
       "<Figure size 864x576 with 1 Axes>"
      ]
     },
     "metadata": {},
     "output_type": "display_data"
    }
   ],
   "source": [
    "# Choose the station with the highest number of temperature observations.\n",
    "# Query the last 12 months of temperature observation data for this station and plot the results as a histogram\n",
    "tmp_results = session.query(Measurement.date, Measurement.tobs).filter(Measurement.station == 'USC00519281').filter(Measurement.date >= query_date).statement\n",
    "\n",
    "tmp_df = pd.read_sql_query(tmp_results, session.bind)\n",
    "\n",
    "plt.figure(figsize=(12,8))\n",
    "tmp_plot = plt.hist(tmp_df['tobs'],  bins=12, color='gold', alpha=0.5, zorder=2, rwidth=1, label='tobs')\n",
    "plt.grid(axis='y', linestyle='--', alpha=.5, zorder=3)\n",
    "plt.title(\"Histogram of Temperatures\", weight='bold', size=12)\n",
    "plt.xlabel(\"Temperature\", labelpad=20, weight='bold', size=12)\n",
    "plt.ylabel(\"Frequency\", labelpad=20, weight='bold', size=12)\n",
    "plt.legend()\n",
    "\n",
    "outfile = os.path.join('Output', 'histogram_temperatures.png')\n",
    "plt.savefig(outfile)\n",
    "\n",
    "plt.show()"
   ]
  },
  {
   "cell_type": "code",
   "execution_count": 21,
   "metadata": {},
   "outputs": [
    {
     "data": {
      "text/html": [
       "<div>\n",
       "<style scoped>\n",
       "    .dataframe tbody tr th:only-of-type {\n",
       "        vertical-align: middle;\n",
       "    }\n",
       "\n",
       "    .dataframe tbody tr th {\n",
       "        vertical-align: top;\n",
       "    }\n",
       "\n",
       "    .dataframe thead th {\n",
       "        text-align: right;\n",
       "    }\n",
       "</style>\n",
       "<table border=\"1\" class=\"dataframe\">\n",
       "  <thead>\n",
       "    <tr style=\"text-align: right;\">\n",
       "      <th></th>\n",
       "      <th>date</th>\n",
       "      <th>tobs</th>\n",
       "    </tr>\n",
       "  </thead>\n",
       "  <tbody>\n",
       "    <tr>\n",
       "      <th>0</th>\n",
       "      <td>2016-08-23</td>\n",
       "      <td>77.0</td>\n",
       "    </tr>\n",
       "    <tr>\n",
       "      <th>1</th>\n",
       "      <td>2016-08-24</td>\n",
       "      <td>77.0</td>\n",
       "    </tr>\n",
       "    <tr>\n",
       "      <th>2</th>\n",
       "      <td>2016-08-25</td>\n",
       "      <td>80.0</td>\n",
       "    </tr>\n",
       "    <tr>\n",
       "      <th>3</th>\n",
       "      <td>2016-08-26</td>\n",
       "      <td>80.0</td>\n",
       "    </tr>\n",
       "    <tr>\n",
       "      <th>4</th>\n",
       "      <td>2016-08-27</td>\n",
       "      <td>75.0</td>\n",
       "    </tr>\n",
       "    <tr>\n",
       "      <th>...</th>\n",
       "      <td>...</td>\n",
       "      <td>...</td>\n",
       "    </tr>\n",
       "    <tr>\n",
       "      <th>347</th>\n",
       "      <td>2017-08-14</td>\n",
       "      <td>77.0</td>\n",
       "    </tr>\n",
       "    <tr>\n",
       "      <th>348</th>\n",
       "      <td>2017-08-15</td>\n",
       "      <td>77.0</td>\n",
       "    </tr>\n",
       "    <tr>\n",
       "      <th>349</th>\n",
       "      <td>2017-08-16</td>\n",
       "      <td>76.0</td>\n",
       "    </tr>\n",
       "    <tr>\n",
       "      <th>350</th>\n",
       "      <td>2017-08-17</td>\n",
       "      <td>76.0</td>\n",
       "    </tr>\n",
       "    <tr>\n",
       "      <th>351</th>\n",
       "      <td>2017-08-18</td>\n",
       "      <td>79.0</td>\n",
       "    </tr>\n",
       "  </tbody>\n",
       "</table>\n",
       "<p>352 rows × 2 columns</p>\n",
       "</div>"
      ],
      "text/plain": [
       "           date  tobs\n",
       "0    2016-08-23  77.0\n",
       "1    2016-08-24  77.0\n",
       "2    2016-08-25  80.0\n",
       "3    2016-08-26  80.0\n",
       "4    2016-08-27  75.0\n",
       "..          ...   ...\n",
       "347  2017-08-14  77.0\n",
       "348  2017-08-15  77.0\n",
       "349  2017-08-16  76.0\n",
       "350  2017-08-17  76.0\n",
       "351  2017-08-18  79.0\n",
       "\n",
       "[352 rows x 2 columns]"
      ]
     },
     "execution_count": 21,
     "metadata": {},
     "output_type": "execute_result"
    }
   ],
   "source": [
    "tmp_df"
   ]
  },
  {
   "cell_type": "markdown",
   "metadata": {},
   "source": [
    "## Bonus Challenge Assignment"
   ]
  },
  {
   "cell_type": "markdown",
   "metadata": {},
   "source": [
    "### Temperature Analysis I"
   ]
  },
  {
   "cell_type": "code",
   "execution_count": 22,
   "metadata": {},
   "outputs": [
    {
     "name": "stdout",
     "output_type": "stream",
     "text": [
      "[(74.13939393939394,), (74.05084745762711,), (76.00537634408602,), (71.9372197309417,), (76.6554054054054,), (73.39473684210526,), (73.27118644067797,), (77.55932203389831,), (76.66810344827586,)]\n",
      "[(69.6842105263158,), (71.06944444444444,), (73.2247191011236,), (69.29126213592232,), (71.8348623853211,), (72.42105263157895,), (69.90322580645162,), (71.10952380952381,), (72.43333333333334,)]\n"
     ]
    }
   ],
   "source": [
    "# Identify the average temperature in June at all stations \n",
    "# across all available years in the dataset\n",
    "jun_avg_temp = session.query(func.avg(Measurement.tobs)).filter(func.strftime(\"%m\", Measurement.date) == '06' ).group_by(Measurement.station).all()\n",
    "print(jun_avg_temp)\n",
    "\n",
    "\n",
    "# Identify the average temperature in December at all stations \n",
    "# across all available years in the dataset\n",
    "dec_avg_temp = session.query(func.avg(Measurement.tobs)).filter(func.strftime(\"%m\", Measurement.date) == '12' ).group_by(Measurement.station).all()\n",
    "print(dec_avg_temp)\n",
    "\n",
    "\n"
   ]
  },
  {
   "cell_type": "code",
   "execution_count": 23,
   "metadata": {},
   "outputs": [
    {
     "name": "stdout",
     "output_type": "stream",
     "text": [
      "Ttest_relResult(statistic=array([6.95696617]), pvalue=array([0.00011759]))\n"
     ]
    }
   ],
   "source": [
    "#Use the t-test to determine whether the difference in the means, if any, is statistically significant\n",
    "ttest_vals = stats.ttest_rel(jun_avg_temp, dec_avg_temp)\n",
    "print(ttest_vals)"
   ]
  },
  {
   "cell_type": "markdown",
   "metadata": {},
   "source": [
    "### Temperature Analysis II"
   ]
  },
  {
   "cell_type": "code",
   "execution_count": 24,
   "metadata": {},
   "outputs": [
    {
     "name": "stdout",
     "output_type": "stream",
     "text": [
      "[(58.0, 74.59058295964125, 87.0)]\n"
     ]
    }
   ],
   "source": [
    "# This function called `calc_temps` will accept start date and end date in the format '%Y-%m-%d' \n",
    "# and return the minimum, average, and maximum temperatures for that range of dates\n",
    "def calc_temps(start_date, end_date):\n",
    "    \"\"\"TMIN, TAVG, and TMAX for a list of dates.\n",
    "    \n",
    "    Args:\n",
    "        start_date (string): A date string in the format %Y-%m-%d\n",
    "        end_date (string): A date string in the format %Y-%m-%d\n",
    "        \n",
    "    Returns:\n",
    "        TMIN, TAVE, and TMAX\n",
    "    \"\"\"\n",
    "    \n",
    "    return session.query(func.min(Measurement.tobs), func.avg(Measurement.tobs), func.max(Measurement.tobs)).\\\n",
    "        filter(Measurement.date >= start_date).filter(Measurement.date <= end_date).all()\n",
    "\n",
    "# function usage example\n",
    "print(calc_temps(query_date, max_date))"
   ]
  },
  {
   "cell_type": "code",
   "execution_count": 25,
   "metadata": {},
   "outputs": [
    {
     "name": "stdout",
     "output_type": "stream",
     "text": [
      "TMin: 58.0\n",
      "TMax: 87.0\n",
      "TAvg: 74.59\n"
     ]
    }
   ],
   "source": [
    "# Use your previous function `calc_temps` to calculate the tmin, tavg, and tmax \n",
    "# for your trip using the previous year's data for those same dates.\n",
    "start_date = query_date\n",
    "end_date = max_date\n",
    "\n",
    "tmp_results = calc_temps(start_date, end_date)\n",
    "print(f'TMin: {tmp_results[0][0]}') \n",
    "print(f'TMax: {tmp_results[0][2]}')\n",
    "print(f'TAvg: {round(tmp_results[0][1],2)}')\n"
   ]
  },
  {
   "cell_type": "code",
   "execution_count": 26,
   "metadata": {},
   "outputs": [
    {
     "data": {
      "image/png": "[encoded data removed]",
      "text/plain": [
       "<Figure size 216x432 with 1 Axes>"
      ]
     },
     "metadata": {},
     "output_type": "display_data"
    }
   ],
   "source": [
    "# Plot the results from your previous query as a bar chart. \n",
    "# Use \"Trip Avg Temp\" as your Title\n",
    "# Use the average temperature for the y value\n",
    "# Use the peak-to-peak (tmax-tmin) value as the y error bar (yerr)\n",
    "yerr = tmp_results[0][2] - tmp_results[0][0]\n",
    "\n",
    "plt.figure(figsize=(3,6))\n",
    "plt.bar('Temp', tmp_results[0][1], yerr=yerr, color='darkorange', alpha=.5, zorder=2)\n",
    "plt.grid(axis='y', linestyle='--', alpha=.5, zorder=3)\n",
    "plt.title(\"Trip Avg Temp\", weight='bold', size=14)\n",
    "plt.ylabel(\"Temp (F)\", labelpad=20, weight='bold', size=12)\n",
    "plt.ylim(0, 130)\n",
    "\n",
    "plt.tight_layout()\n",
    "outfile = os.path.join('Output', 'trip_avg_temp.png')\n",
    "plt.savefig(outfile)\n",
    "\n",
    "plt.show()"
   ]
  },
  {
   "cell_type": "markdown",
   "metadata": {},
   "source": [
    "### Daily Rainfall Average"
   ]
  },
  {
   "cell_type": "code",
   "execution_count": 27,
   "metadata": {},
   "outputs": [
    {
     "name": "stdout",
     "output_type": "stream",
     "text": [
      "Station         Name                                        Latitude   Longitude   Elevation   Precipitation\n",
      "USC00516128     MANOA LYON ARBO 785.2, HI US                 21.3331   -157.8025       152.4           147.8\n",
      "USC00519281     WAIHEE 837.5, HI US                          21.4517   -157.8489        32.9            70.0\n",
      "USC00513117     KANEOHE 838.1, HI US                         21.4234   -157.8015        14.6            48.5\n",
      "USC00519523     WAIMANALO EXPERIMENTAL FARM, HI US           21.3356   -157.7114        19.5            38.0\n",
      "USC00514830     KUALOA RANCH HEADQUARTERS 886.9, HI US       21.5213   -157.8374         7.0            33.2\n",
      "USC00519397     WAIKIKI 717.2, HI US                         21.2716   -157.8168         3.0            16.1\n",
      "USC00517948     PEARL CITY, HI US                            21.3934   -157.9751        11.9             4.6\n"
     ]
    }
   ],
   "source": [
    "# Calculate the total amount of rainfall per weather station for your trip dates using the previous year's matching dates.\n",
    "# Sort this in descending order by precipitation amount and list the station, name, latitude, longitude, and elevation\n",
    "trip_rainfall = session.query(Measurement.station, Station.name, Station.latitude,\\\n",
    "    Station.longitude, Station.elevation, func.sum(Measurement.prcp).label('total')).\\\n",
    "    filter(Measurement.station==Station.station).filter(Measurement.date >= query_date).filter(Measurement.date <= max_date).\\\n",
    "    group_by(Measurement.station).order_by(func.sum(Measurement.prcp).label('total').desc()).all()\n",
    "\n",
    "print('{:<16s}{:<40s}{:>12s}{:>12s}{:>12s}{:>16s}'.format('Station','Name','Latitude','Longitude','Elevation', 'Precipitation'))\n",
    "for station in trip_rainfall:\n",
    "    print('{:<16s}{:<40s}{:>12.4f}{:>12.4f}{:>12.1f}{:>16.1f}'.format(station[0],station[1],station[2],station[3],station[4],station[5]))\n",
    "    \n",
    "    "
   ]
  },
  {
   "cell_type": "code",
   "execution_count": 28,
   "metadata": {},
   "outputs": [
    {
     "data": {
      "text/plain": [
       "[(62.0, 69.15384615384616, 77.0)]"
      ]
     },
     "execution_count": 28,
     "metadata": {},
     "output_type": "execute_result"
    }
   ],
   "source": [
    "# Create a query that will calculate the daily normals \n",
    "# (i.e. the averages for tmin, tmax, and tavg for all historic data matching a specific month and day)\n",
    "\n",
    "def daily_normals(date):\n",
    "    \"\"\"Daily Normals.\n",
    "    \n",
    "    Args:\n",
    "        date (str): A date string in the format '%m-%d'\n",
    "        \n",
    "    Returns:\n",
    "        A list of tuples containing the daily normals, tmin, tavg, and tmax\n",
    "    \n",
    "    \"\"\"\n",
    "    \n",
    "    sel = [func.min(Measurement.tobs), func.avg(Measurement.tobs), func.max(Measurement.tobs)]\n",
    "    return session.query(*sel).filter(func.strftime(\"%m-%d\", Measurement.date) == date).all()\n",
    "    \n",
    "daily_normals(\"01-01\")"
   ]
  },
  {
   "cell_type": "code",
   "execution_count": 29,
   "metadata": {},
   "outputs": [],
   "source": [
    "# calculate the daily normals for your trip\n",
    "# push each tuple of calculations into a list called `normals`\n",
    "\n",
    "# Set the start and end date of the trip\n",
    "start_date = '2017-01-01'\n",
    "end_date = '2017-01-07'\n",
    "\n",
    "con_sdate= dt.datetime.strptime(start_date, '%Y-%m-%d').date()\n",
    "con_edate= dt.datetime.strptime(end_date, '%Y-%m-%d').date()\n",
    "\n",
    "\n",
    "# Use the start and end date to create a range of dates\n",
    "diff = con_edate - con_sdate\n",
    "num_days = diff.days\n",
    "    \n",
    "trip_dates = []\n",
    "trip_days = []\n",
    "\n",
    "num_days+=1\n",
    "\n",
    "# Strip off the year and save a list of %m-%d strings\n",
    "for x in range(num_days):\n",
    "    new_date = con_sdate + dt.timedelta(days=x) \n",
    "    trip_dates.append(new_date)\n",
    "    trip_days.append(dt.date.strftime(new_date, '%m-%d'))\n",
    "\n",
    "# Loop through the list of %m-%d strings and calculate the normals for each date\n",
    "\n",
    "\n",
    "trip_day_normals = []\n",
    "\n",
    "for i in range(len(trip_days)):\n",
    "    temp_dict = {}\n",
    "    \n",
    "    results = daily_normals(trip_days[i])\n",
    "    \n",
    "    temp_dict['date'] =  str(trip_dates[i])\n",
    "    temp_dict['tmin'] = results[0][0]\n",
    "    temp_dict['tavg'] = round(results[0][1], 2)\n",
    "    temp_dict['tmax'] = results[0][2]\n",
    "    trip_day_normals.append(temp_dict)\n"
   ]
  },
  {
   "cell_type": "code",
   "execution_count": 30,
   "metadata": {},
   "outputs": [
    {
     "data": {
      "text/html": [
       "<div>\n",
       "<style scoped>\n",
       "    .dataframe tbody tr th:only-of-type {\n",
       "        vertical-align: middle;\n",
       "    }\n",
       "\n",
       "    .dataframe tbody tr th {\n",
       "        vertical-align: top;\n",
       "    }\n",
       "\n",
       "    .dataframe thead th {\n",
       "        text-align: right;\n",
       "    }\n",
       "</style>\n",
       "<table border=\"1\" class=\"dataframe\">\n",
       "  <thead>\n",
       "    <tr style=\"text-align: right;\">\n",
       "      <th></th>\n",
       "      <th>tmin</th>\n",
       "      <th>tavg</th>\n",
       "      <th>tmax</th>\n",
       "    </tr>\n",
       "    <tr>\n",
       "      <th>date</th>\n",
       "      <th></th>\n",
       "      <th></th>\n",
       "      <th></th>\n",
       "    </tr>\n",
       "  </thead>\n",
       "  <tbody>\n",
       "    <tr>\n",
       "      <th>2017-01-01</th>\n",
       "      <td>62.0</td>\n",
       "      <td>69.15</td>\n",
       "      <td>77.0</td>\n",
       "    </tr>\n",
       "    <tr>\n",
       "      <th>2017-01-02</th>\n",
       "      <td>60.0</td>\n",
       "      <td>69.40</td>\n",
       "      <td>77.0</td>\n",
       "    </tr>\n",
       "    <tr>\n",
       "      <th>2017-01-03</th>\n",
       "      <td>62.0</td>\n",
       "      <td>68.91</td>\n",
       "      <td>77.0</td>\n",
       "    </tr>\n",
       "    <tr>\n",
       "      <th>2017-01-04</th>\n",
       "      <td>58.0</td>\n",
       "      <td>70.00</td>\n",
       "      <td>76.0</td>\n",
       "    </tr>\n",
       "    <tr>\n",
       "      <th>2017-01-05</th>\n",
       "      <td>56.0</td>\n",
       "      <td>67.96</td>\n",
       "      <td>76.0</td>\n",
       "    </tr>\n",
       "  </tbody>\n",
       "</table>\n",
       "</div>"
      ],
      "text/plain": [
       "            tmin   tavg  tmax\n",
       "date                         \n",
       "2017-01-01  62.0  69.15  77.0\n",
       "2017-01-02  60.0  69.40  77.0\n",
       "2017-01-03  62.0  68.91  77.0\n",
       "2017-01-04  58.0  70.00  76.0\n",
       "2017-01-05  56.0  67.96  76.0"
      ]
     },
     "execution_count": 30,
     "metadata": {},
     "output_type": "execute_result"
    }
   ],
   "source": [
    "# Load the previous query results into a Pandas DataFrame and add the `trip_dates` range as the `date` index\n",
    "trip_df = pd.DataFrame(trip_day_normals)\n",
    "trip_df.set_index('date', inplace=True)\n",
    "trip_df.head()"
   ]
  },
  {
   "cell_type": "code",
   "execution_count": 31,
   "metadata": {},
   "outputs": [
    {
     "data": {
      "image/png": "[encoded data removed]",
      "text/plain": [
       "<Figure size 864x576 with 1 Axes>"
      ]
     },
     "metadata": {},
     "output_type": "display_data"
    }
   ],
   "source": [
    "# Plot the daily normals as an area plot with `stacked=False`\n",
    "ax = trip_df.plot.area(figsize = (12,8), stacked=False)\n",
    "\n",
    "ax.tick_params(axis = 'x', labelrotation = 45, labelsize = 10)\n",
    "ax.tick_params(axis = 'y', labelsize = 10)\n",
    "\n",
    "# # Set a title for the chart\n",
    "ax.set_title(\"Minimum, Maximum and Average Temperatures \", weight='bold', size=16)\n",
    "ax.set_xlabel(\"Date\", weight='bold', size=12)\n",
    "ax.set_ylabel(\"Temperature\", weight='bold', size=12)\n",
    "ax.legend()\n",
    "plt.tight_layout()\n",
    "\n",
    "outfile = os.path.join('Output', 'trip_min_max_avg_temp.png')\n",
    "plt.savefig(outfile)\n",
    "\n",
    "plt.show()\n"
   ]
  },
  {
   "cell_type": "code",
   "execution_count": null,
   "metadata": {},
   "outputs": [],
   "source": []
  }
 ],
 "metadata": {
  "kernel_info": {
   "name": "python3"
  },
  "kernelspec": {
   "display_name": "Python 3",
   "language": "python",
   "name": "python3"
  },
  "language_info": {
   "codemirror_mode": {
    "name": "ipython",
    "version": 3
   },
   "file_extension": ".py",
   "mimetype": "text/x-python",
   "name": "python",
   "nbconvert_exporter": "python",
   "pygments_lexer": "ipython3",
   "version": "3.8.3"
  },
  "nteract": {
   "version": "0.12.3"
  },
  "varInspector": {
   "cols": {
    "lenName": 16,
    "lenType": 16,
    "lenVar": 40
   },
   "kernels_config": {
    "python": {
     "delete_cmd_postfix": "",
     "delete_cmd_prefix": "del ",
     "library": "var_list.py",
     "varRefreshCmd": "print(var_dic_list())"
    },
    "r": {
     "delete_cmd_postfix": ") ",
     "delete_cmd_prefix": "rm(",
     "library": "var_list.r",
     "varRefreshCmd": "cat(var_dic_list()) "
    }
   },
   "types_to_exclude": [
    "module",
    "function",
    "builtin_function_or_method",
    "instance",
    "_Feature"
   ],
   "window_display": false
  }
 },
 "nbformat": 4,
 "nbformat_minor": 4
}
